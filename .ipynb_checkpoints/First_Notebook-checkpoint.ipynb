{
 "cells": [
  {
   "cell_type": "code",
   "execution_count": 3,
   "id": "275bc397-077a-406f-b70b-206c1e2b8441",
   "metadata": {},
   "outputs": [
    {
     "name": "stdout",
     "output_type": "stream",
     "text": [
      "Hello World!\n"
     ]
    }
   ],
   "source": [
    "print(\"Hello World!\")\n",
    "      "
   ]
  },
  {
   "cell_type": "markdown",
   "id": "ca2c99fc-ef66-4a14-a98e-c47f9e8e0b90",
   "metadata": {},
   "source": [
    "# Starting my Jupyter Notebook tutorial!!"
   ]
  },
  {
   "cell_type": "code",
   "execution_count": 8,
   "id": "7dad7d9c-7355-425f-ba52-4311cce0eb8f",
   "metadata": {},
   "outputs": [
    {
     "name": "stdout",
     "output_type": "stream",
     "text": [
      "chimsom\n"
     ]
    }
   ],
   "source": [
    "import random\n",
    "bill_payer = [\"uche\", \"chimsom\", \"pascal\", \"David\", \"fafa\", \"Oge\"]\n",
    "\n",
    "food = len(bill_payer)\n",
    "pay =random.randint(0, food - 1)\n",
    "print(bill_payer[pay])"
   ]
  },
  {
   "cell_type": "code",
   "execution_count": null,
   "id": "3308986f-7ebf-441b-97f8-edad720816b4",
   "metadata": {},
   "outputs": [],
   "source": [
    "Nucleotides = [\"A\", \"C\", \"G\", \"T\"]\n",
    "\n",
    "# checking the sequence to ensure it is a DNA string\n",
    "\n",
    "def validateSeq(dna_seq):\n",
    "    tnpseq = dna_seq.upper()\n",
    "    for nuc in tnpseq:\n",
    "        if nuc not in Nucleotides:\n",
    "            return False\n",
    "    return tnpseq\n",
    "\n",
    "#now, to generate a random sequence\n",
    "\n",
    "import random\n",
    "\n",
    "rndDNAstring = \"\".join([random.choice(Nucleotides)\n",
    "                        for nuc in range(20)])\n",
    "\n",
    "print(validateSeq(rndDNAstring))\n",
    "\n",
    "\n",
    "#to test out this function\n",
    "\n",
    "#the \".upper()\" function changes any lowercased letter in the string to uppercase and prints it out\n",
    "#as long as it is in the original dictonary of Nucleotides as given above\n",
    "\n",
    "random_DNAstrg1 = \"ACCGTAGTGACGGTGT\"\n",
    "\n",
    "random_DNAstrg2 = \"CCTGCTAcctactg\"\n",
    "\n",
    "print(validateSeq(random_DNAstrg1))\n",
    "print(validateSeq(random_DNAstrg2))\n",
    "\n",
    "#the \"upper.()\" function allows python to convert the given string into uppercase letters,\n",
    "#then checks to see if they are among the given sting or dictonary in the firstline\n",
    "random_DNAstrg1 = \"CGGTAAATGCAACG\"\n",
    "random_DNAstrg2 = \"CcgtGacGTGCacatTacG\"\n",
    "random_DNAstrg3 = \"SHGBTACGTCAAGCTACTCTGA\"\n",
    "\n",
    "\n",
    "\n",
    "#print(validateSeq(random_DNAstrg1))\n",
    "#print(validateSeq(random_DNAstrg2))\n",
    "#print(validateSeq(random_DNAstrg3))\n",
    "\n",
    "\n",
    "# now to create a random DNA sequence for testing and counting\n",
    "\n",
    "def countnucfrequency(seq):\n",
    "    tmpfreqdict = {\"A\": 0, \"C\": 0, \"G\": 0, \"T\":0}\n",
    "    for nuc in seq:\n",
    "        tmpfreqdict[nuc] += 1\n",
    "    return tmpfreqdict\n",
    "\n",
    "print(countnucfrequency(rndDNAstring))\n",
    "\n"
   ]
  }
 ],
 "metadata": {
  "kernelspec": {
   "display_name": "Python 3 (ipykernel)",
   "language": "python",
   "name": "python3"
  },
  "language_info": {
   "codemirror_mode": {
    "name": "ipython",
    "version": 3
   },
   "file_extension": ".py",
   "mimetype": "text/x-python",
   "name": "python",
   "nbconvert_exporter": "python",
   "pygments_lexer": "ipython3",
   "version": "3.12.3"
  }
 },
 "nbformat": 4,
 "nbformat_minor": 5
}
