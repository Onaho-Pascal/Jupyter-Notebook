{
 "cells": [
  {
   "cell_type": "code",
   "execution_count": 3,
   "id": "275bc397-077a-406f-b70b-206c1e2b8441",
   "metadata": {},
   "outputs": [
    {
     "name": "stdout",
     "output_type": "stream",
     "text": [
      "Hello World!\n"
     ]
    }
   ],
   "source": [
    "print(\"Hello World!\")\n",
    "      "
   ]
  },
  {
   "cell_type": "markdown",
   "id": "ca2c99fc-ef66-4a14-a98e-c47f9e8e0b90",
   "metadata": {},
   "source": [
    "# Starting my Jupyter Notebook tutorial!!"
   ]
  },
  {
   "cell_type": "code",
   "execution_count": 8,
   "id": "7dad7d9c-7355-425f-ba52-4311cce0eb8f",
   "metadata": {},
   "outputs": [
    {
     "name": "stdout",
     "output_type": "stream",
     "text": [
      "chimsom\n"
     ]
    }
   ],
   "source": [
    "import random\n",
    "bill_payer = [\"uche\", \"chimsom\", \"pascal\", \"David\", \"fafa\", \"Oge\"]\n",
    "\n",
    "food = len(bill_payer)\n",
    "pay =random.randint(0, food - 1)\n",
    "print(bill_payer[pay])"
   ]
  }
 ],
 "metadata": {
  "kernelspec": {
   "display_name": "Python 3 (ipykernel)",
   "language": "python",
   "name": "python3"
  },
  "language_info": {
   "codemirror_mode": {
    "name": "ipython",
    "version": 3
   },
   "file_extension": ".py",
   "mimetype": "text/x-python",
   "name": "python",
   "nbconvert_exporter": "python",
   "pygments_lexer": "ipython3",
   "version": "3.12.3"
  }
 },
 "nbformat": 4,
 "nbformat_minor": 5
}
